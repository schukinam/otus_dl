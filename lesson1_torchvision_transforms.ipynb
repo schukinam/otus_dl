{
  "nbformat": 4,
  "nbformat_minor": 0,
  "metadata": {
    "colab": {
      "name": "lesson1_torchvision.transforms.ipynb",
      "provenance": [],
      "include_colab_link": true
    },
    "kernelspec": {
      "name": "python3",
      "display_name": "Python 3"
    }
  },
  "cells": [
    {
      "cell_type": "markdown",
      "metadata": {
        "id": "view-in-github",
        "colab_type": "text"
      },
      "source": [
        "<a href=\"https://colab.research.google.com/github/schukinam/otus_dl/blob/master/lesson1_torchvision_transforms.ipynb\" target=\"_parent\"><img src=\"https://colab.research.google.com/assets/colab-badge.svg\" alt=\"Open In Colab\"/></a>"
      ]
    },
    {
      "cell_type": "code",
      "metadata": {
        "id": "2s7d-GhzTEOp",
        "colab_type": "code",
        "colab": {}
      },
      "source": [
        "import torch\n",
        "from torch import utils\n",
        "from torchvision import datasets, transforms\n",
        "\n",
        "import numpy as np"
      ],
      "execution_count": 0,
      "outputs": []
    },
    {
      "cell_type": "code",
      "metadata": {
        "id": "57wM1M5XTF0J",
        "colab_type": "code",
        "colab": {}
      },
      "source": [
        "path='./MNIST_data'"
      ],
      "execution_count": 0,
      "outputs": []
    },
    {
      "cell_type": "markdown",
      "metadata": {
        "id": "-lwW-1yyeynh",
        "colab_type": "text"
      },
      "source": [
        "Загружаем данные"
      ]
    },
    {
      "cell_type": "code",
      "metadata": {
        "id": "XJaInOyfbgYZ",
        "colab_type": "code",
        "colab": {}
      },
      "source": [
        "train_data = datasets.MNIST(path, train=True, download=True, transform=None)"
      ],
      "execution_count": 0,
      "outputs": []
    },
    {
      "cell_type": "markdown",
      "metadata": {
        "id": "lQo2mlrAe52N",
        "colab_type": "text"
      },
      "source": [
        "Объявим объекта класса transforms.ToTensor"
      ]
    },
    {
      "cell_type": "code",
      "metadata": {
        "id": "6pRRYO1Zbnv7",
        "colab_type": "code",
        "colab": {}
      },
      "source": [
        "transform_ToTensor = transforms.ToTensor()"
      ],
      "execution_count": 0,
      "outputs": []
    },
    {
      "cell_type": "markdown",
      "metadata": {
        "id": "owjBm4USfYe0",
        "colab_type": "text"
      },
      "source": [
        "Применим ToTensor к исходным данным. После этого  мы сможем обращаться к \n",
        "преобразованным данным. При варианте с применением ToTensor при загрузке датасета добиться аналогичного результата можно было бы только с помощью DataLoader"
      ]
    },
    {
      "cell_type": "code",
      "metadata": {
        "id": "Zk4_ohUNeZcw",
        "colab_type": "code",
        "colab": {}
      },
      "source": [
        "train_data_tensor = transform_ToTensor(train_data.data.numpy())"
      ],
      "execution_count": 0,
      "outputs": []
    },
    {
      "cell_type": "markdown",
      "metadata": {
        "id": "80VjIR2sgBCK",
        "colab_type": "text"
      },
      "source": [
        "Теперь можем посчитать mean и std"
      ]
    },
    {
      "cell_type": "code",
      "metadata": {
        "id": "iLQItyZGeOKF",
        "colab_type": "code",
        "outputId": "4bd693b1-9a81-488e-9296-a86e962781dd",
        "colab": {
          "base_uri": "https://localhost:8080/",
          "height": 34
        }
      },
      "source": [
        "train_mean = train_data_tensor.mean().item()\n",
        "print(train_mean)"
      ],
      "execution_count": 12,
      "outputs": [
        {
          "output_type": "stream",
          "text": [
            "0.13054245710372925\n"
          ],
          "name": "stdout"
        }
      ]
    },
    {
      "cell_type": "code",
      "metadata": {
        "id": "9piitLc6eU_h",
        "colab_type": "code",
        "outputId": "793cc7ca-aaf2-4cb7-87f7-966e87027d8b",
        "colab": {
          "base_uri": "https://localhost:8080/",
          "height": 34
        }
      },
      "source": [
        "train_std = train_data_tensor.std().item()\n",
        "print(train_std)"
      ],
      "execution_count": 13,
      "outputs": [
        {
          "output_type": "stream",
          "text": [
            "0.30810782313346863\n"
          ],
          "name": "stdout"
        }
      ]
    },
    {
      "cell_type": "markdown",
      "metadata": {
        "id": "E9Sw1bvHg1AO",
        "colab_type": "text"
      },
      "source": [
        "Объявим объект класса transforms.Normalize, используя рассчитанные статистики"
      ]
    },
    {
      "cell_type": "code",
      "metadata": {
        "id": "cEfkaZKbdW7v",
        "colab_type": "code",
        "colab": {}
      },
      "source": [
        "transform_norm = transforms.Normalize((train_mean,), (train_std,))"
      ],
      "execution_count": 0,
      "outputs": []
    },
    {
      "cell_type": "markdown",
      "metadata": {
        "id": "yQtfCjxJhWw9",
        "colab_type": "text"
      },
      "source": [
        "Применим transform_norm к исходным данным"
      ]
    },
    {
      "cell_type": "code",
      "metadata": {
        "id": "zQ8gS0Z6dfb-",
        "colab_type": "code",
        "colab": {}
      },
      "source": [
        "train_data_norm = transform_norm(train_data_tensor)"
      ],
      "execution_count": 0,
      "outputs": []
    },
    {
      "cell_type": "markdown",
      "metadata": {
        "id": "FnRtdHxiho1c",
        "colab_type": "text"
      },
      "source": [
        "Посчитаем статистики данных после нормировки"
      ]
    },
    {
      "cell_type": "code",
      "metadata": {
        "id": "zcUG55Fx7GgM",
        "colab_type": "code",
        "colab": {
          "base_uri": "https://localhost:8080/",
          "height": 34
        },
        "outputId": "ec841d2c-c66c-4cbc-f643-b9dfd2fbeed9"
      },
      "source": [
        "train_norm_mean = train_data_norm.mean().item()\n",
        "print(train_norm_mean)"
      ],
      "execution_count": 16,
      "outputs": [
        {
          "output_type": "stream",
          "text": [
            "0.0015927233034744859\n"
          ],
          "name": "stdout"
        }
      ]
    },
    {
      "cell_type": "code",
      "metadata": {
        "id": "pYBAgKGkd_z4",
        "colab_type": "code",
        "outputId": "0e961ce1-3661-494c-da63-3742b0096e3a",
        "colab": {
          "base_uri": "https://localhost:8080/",
          "height": 34
        }
      },
      "source": [
        "train_norm_std = train_data_norm.std().item()\n",
        "print(train_norm_std)"
      ],
      "execution_count": 17,
      "outputs": [
        {
          "output_type": "stream",
          "text": [
            "0.9999999403953552\n"
          ],
          "name": "stdout"
        }
      ]
    },
    {
      "cell_type": "markdown",
      "metadata": {
        "id": "SFg-LlWKh2MP",
        "colab_type": "text"
      },
      "source": [
        "Получили необходимый результат"
      ]
    },
    {
      "cell_type": "code",
      "metadata": {
        "id": "6Gck49O9h05g",
        "colab_type": "code",
        "colab": {}
      },
      "source": [
        ""
      ],
      "execution_count": 0,
      "outputs": []
    }
  ]
}
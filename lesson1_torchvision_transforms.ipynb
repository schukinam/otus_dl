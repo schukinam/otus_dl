{
  "nbformat": 4,
  "nbformat_minor": 0,
  "metadata": {
    "colab": {
      "name": "lesson1_torchvision.transforms.ipynb",
      "provenance": [],
      "include_colab_link": true
    },
    "kernelspec": {
      "name": "python3",
      "display_name": "Python 3"
    }
  },
  "cells": [
    {
      "cell_type": "markdown",
      "metadata": {
        "id": "view-in-github",
        "colab_type": "text"
      },
      "source": [
        "<a href=\"https://colab.research.google.com/github/schukinam/otus_dl/blob/master/lesson1_torchvision_transforms.ipynb\" target=\"_parent\"><img src=\"https://colab.research.google.com/assets/colab-badge.svg\" alt=\"Open In Colab\"/></a>"
      ]
    },
    {
      "cell_type": "code",
      "metadata": {
        "id": "2s7d-GhzTEOp",
        "colab_type": "code",
        "colab": {}
      },
      "source": [
        "import torch\n",
        "from torchvision import datasets, transforms\n",
        "\n",
        "import numpy as np"
      ],
      "execution_count": 0,
      "outputs": []
    },
    {
      "cell_type": "code",
      "metadata": {
        "id": "57wM1M5XTF0J",
        "colab_type": "code",
        "colab": {}
      },
      "source": [
        "path='./MNIST_data'"
      ],
      "execution_count": 0,
      "outputs": []
    },
    {
      "cell_type": "markdown",
      "metadata": {
        "id": "-lwW-1yyeynh",
        "colab_type": "text"
      },
      "source": [
        "Загружаем данные"
      ]
    },
    {
      "cell_type": "code",
      "metadata": {
        "id": "XJaInOyfbgYZ",
        "colab_type": "code",
        "colab": {}
      },
      "source": [
        "train_data = datasets.MNIST(path, train=True, download=True, transform=None)"
      ],
      "execution_count": 0,
      "outputs": []
    },
    {
      "cell_type": "markdown",
      "metadata": {
        "id": "YH-ONsz5Noe_",
        "colab_type": "text"
      },
      "source": [
        "Посчитаем mean и std"
      ]
    },
    {
      "cell_type": "code",
      "metadata": {
        "id": "dGPRQ_N2GCbB",
        "colab_type": "code",
        "colab": {
          "base_uri": "https://localhost:8080/",
          "height": 34
        },
        "outputId": "22889bcb-b7a8-401e-98fc-b95bb45e1083"
      },
      "source": [
        "train_mean = train_data.data.numpy().mean()\n",
        "print(train_mean)"
      ],
      "execution_count": 146,
      "outputs": [
        {
          "output_type": "stream",
          "text": [
            "33.318421449829934\n"
          ],
          "name": "stdout"
        }
      ]
    },
    {
      "cell_type": "code",
      "metadata": {
        "id": "_s_qbykMHLjF",
        "colab_type": "code",
        "colab": {
          "base_uri": "https://localhost:8080/",
          "height": 34
        },
        "outputId": "6f83a10d-b49a-4737-bbd7-b5277859363f"
      },
      "source": [
        "train_std = train_data.data.numpy().std()\n",
        "print(train_std)"
      ],
      "execution_count": 147,
      "outputs": [
        {
          "output_type": "stream",
          "text": [
            "78.56748998339798\n"
          ],
          "name": "stdout"
        }
      ]
    },
    {
      "cell_type": "markdown",
      "metadata": {
        "id": "QvnzNvWoOH15",
        "colab_type": "text"
      },
      "source": [
        "Объявим объект класса transforms.Normalize, используя рассчитанные статистики"
      ]
    },
    {
      "cell_type": "code",
      "metadata": {
        "id": "Z7qIb76AGMD4",
        "colab_type": "code",
        "colab": {}
      },
      "source": [
        "transform_norm = transforms.Normalize((train_mean,), (train_std,))"
      ],
      "execution_count": 0,
      "outputs": []
    },
    {
      "cell_type": "markdown",
      "metadata": {
        "id": "B8I25ouZOU0J",
        "colab_type": "text"
      },
      "source": [
        "Применим transform_norm к исходным данным, попутно преобразуя их в float"
      ]
    },
    {
      "cell_type": "code",
      "metadata": {
        "id": "-qNp9T7WGMGq",
        "colab_type": "code",
        "colab": {}
      },
      "source": [
        "train_data_norm = transform_norm(train_data.data.float())"
      ],
      "execution_count": 0,
      "outputs": []
    },
    {
      "cell_type": "markdown",
      "metadata": {
        "id": "JB9juulfOjgn",
        "colab_type": "text"
      },
      "source": [
        "Посчитаем новые статистики"
      ]
    },
    {
      "cell_type": "code",
      "metadata": {
        "id": "fCuzCCW4Gam1",
        "colab_type": "code",
        "colab": {
          "base_uri": "https://localhost:8080/",
          "height": 34
        },
        "outputId": "d04aa44b-2572-4849-b16f-5db2eb84db64"
      },
      "source": [
        "train_data_norm.data.mean().item()"
      ],
      "execution_count": 150,
      "outputs": [
        {
          "output_type": "execute_result",
          "data": {
            "text/plain": [
              "-3.24237989843823e-05"
            ]
          },
          "metadata": {
            "tags": []
          },
          "execution_count": 150
        }
      ]
    },
    {
      "cell_type": "code",
      "metadata": {
        "id": "WU8iIw5HGapa",
        "colab_type": "code",
        "colab": {
          "base_uri": "https://localhost:8080/",
          "height": 34
        },
        "outputId": "d189da8d-cdc2-43f6-b146-a8bc063a1064"
      },
      "source": [
        "train_data_norm.data.std().item()"
      ],
      "execution_count": 151,
      "outputs": [
        {
          "output_type": "execute_result",
          "data": {
            "text/plain": [
              "1.0"
            ]
          },
          "metadata": {
            "tags": []
          },
          "execution_count": 151
        }
      ]
    },
    {
      "cell_type": "markdown",
      "metadata": {
        "id": "SFg-LlWKh2MP",
        "colab_type": "text"
      },
      "source": [
        "Получили подтверждение верности коэффициентов, для их использования в пайплайне с преобразованием данных из диапазона [0;255] в [0;1], необходимо поделить их на 255:"
      ]
    },
    {
      "cell_type": "code",
      "metadata": {
        "id": "ZlqIJUrYSfwm",
        "colab_type": "code",
        "colab": {}
      },
      "source": [
        "train_mean /= 255\n",
        "train_std /= 255"
      ],
      "execution_count": 0,
      "outputs": []
    },
    {
      "cell_type": "code",
      "metadata": {
        "id": "eZsw4IMOXdcH",
        "colab_type": "code",
        "colab": {
          "base_uri": "https://localhost:8080/",
          "height": 51
        },
        "outputId": "a5370913-dcd2-4a44-9af6-9c6de21f9503"
      },
      "source": [
        "print(train_mean)\n",
        "print(train_std)"
      ],
      "execution_count": 156,
      "outputs": [
        {
          "output_type": "stream",
          "text": [
            "0.1306604762738429\n",
            "0.30810780385646264\n"
          ],
          "name": "stdout"
        }
      ]
    },
    {
      "cell_type": "code",
      "metadata": {
        "id": "DEOby4PRV8UD",
        "colab_type": "code",
        "colab": {}
      },
      "source": [
        "mnist_transform = transforms.Compose([\n",
        "                transforms.ToTensor(),\n",
        "                transforms.Normalize((train_mean,), (train_std,)),\n",
        "           ])"
      ],
      "execution_count": 0,
      "outputs": []
    },
    {
      "cell_type": "code",
      "metadata": {
        "id": "6PXIKfaxWAFS",
        "colab_type": "code",
        "colab": {}
      },
      "source": [
        "train_data_norm = datasets.MNIST(path, train=True, download=True, transform=mnist_transform)"
      ],
      "execution_count": 0,
      "outputs": []
    },
    {
      "cell_type": "code",
      "metadata": {
        "id": "ibyCLuDAXjpn",
        "colab_type": "code",
        "colab": {}
      },
      "source": [
        ""
      ],
      "execution_count": 0,
      "outputs": []
    }
  ]
}
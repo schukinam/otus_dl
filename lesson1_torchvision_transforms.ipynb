{
  "nbformat": 4,
  "nbformat_minor": 0,
  "metadata": {
    "colab": {
      "name": "lesson1_torchvision.transforms.ipynb",
      "provenance": [],
      "include_colab_link": true
    },
    "kernelspec": {
      "name": "python3",
      "display_name": "Python 3"
    }
  },
  "cells": [
    {
      "cell_type": "markdown",
      "metadata": {
        "id": "view-in-github",
        "colab_type": "text"
      },
      "source": [
        "<a href=\"https://colab.research.google.com/github/schukinam/otus_dl/blob/master/lesson1_torchvision_transforms.ipynb\" target=\"_parent\"><img src=\"https://colab.research.google.com/assets/colab-badge.svg\" alt=\"Open In Colab\"/></a>"
      ]
    },
    {
      "cell_type": "code",
      "metadata": {
        "id": "2s7d-GhzTEOp",
        "colab_type": "code",
        "colab": {}
      },
      "source": [
        "import torch\n",
        "from torchvision import datasets, transforms\n",
        "\n",
        "import numpy as np"
      ],
      "execution_count": 0,
      "outputs": []
    },
    {
      "cell_type": "code",
      "metadata": {
        "id": "57wM1M5XTF0J",
        "colab_type": "code",
        "colab": {}
      },
      "source": [
        "path='./MNIST_data'"
      ],
      "execution_count": 0,
      "outputs": []
    },
    {
      "cell_type": "markdown",
      "metadata": {
        "id": "-lwW-1yyeynh",
        "colab_type": "text"
      },
      "source": [
        "Загружаем данные"
      ]
    },
    {
      "cell_type": "code",
      "metadata": {
        "id": "XJaInOyfbgYZ",
        "colab_type": "code",
        "colab": {}
      },
      "source": [
        "train_data = datasets.MNIST(path, train=True, download=True, transform=None)"
      ],
      "execution_count": 0,
      "outputs": []
    },
    {
      "cell_type": "markdown",
      "metadata": {
        "id": "YH-ONsz5Noe_",
        "colab_type": "text"
      },
      "source": [
        "Посчитаем mean и std"
      ]
    },
    {
      "cell_type": "code",
      "metadata": {
        "id": "dGPRQ_N2GCbB",
        "colab_type": "code",
        "colab": {
          "base_uri": "https://localhost:8080/",
          "height": 34
        },
        "outputId": "1ae4b560-d39f-48c5-872c-2c7b1110949a"
      },
      "source": [
        "train_mean = train_data.data.numpy().mean()\n",
        "print(train_mean)"
      ],
      "execution_count": 94,
      "outputs": [
        {
          "output_type": "stream",
          "text": [
            "33.318421449829934\n"
          ],
          "name": "stdout"
        }
      ]
    },
    {
      "cell_type": "code",
      "metadata": {
        "id": "_s_qbykMHLjF",
        "colab_type": "code",
        "colab": {
          "base_uri": "https://localhost:8080/",
          "height": 34
        },
        "outputId": "aef806cc-28e8-4a80-c8c2-b81fa54efde2"
      },
      "source": [
        "train_std = train_data.data.numpy().std()\n",
        "print(train_std)"
      ],
      "execution_count": 96,
      "outputs": [
        {
          "output_type": "stream",
          "text": [
            "78.56748998339798\n"
          ],
          "name": "stdout"
        }
      ]
    },
    {
      "cell_type": "markdown",
      "metadata": {
        "id": "QvnzNvWoOH15",
        "colab_type": "text"
      },
      "source": [
        "Объявим объект класса transforms.Normalize, используя рассчитанные статистики"
      ]
    },
    {
      "cell_type": "code",
      "metadata": {
        "id": "Z7qIb76AGMD4",
        "colab_type": "code",
        "colab": {}
      },
      "source": [
        "transform_norm = transforms.Normalize((train_mean,), (train_std,))"
      ],
      "execution_count": 0,
      "outputs": []
    },
    {
      "cell_type": "markdown",
      "metadata": {
        "id": "B8I25ouZOU0J",
        "colab_type": "text"
      },
      "source": [
        "Применим transform_norm к исходным данным, попутно преобразуя их в float"
      ]
    },
    {
      "cell_type": "code",
      "metadata": {
        "id": "-qNp9T7WGMGq",
        "colab_type": "code",
        "colab": {}
      },
      "source": [
        "train_data_norm = transform_norm(train_data.data.float())"
      ],
      "execution_count": 0,
      "outputs": []
    },
    {
      "cell_type": "markdown",
      "metadata": {
        "id": "JB9juulfOjgn",
        "colab_type": "text"
      },
      "source": [
        "Посчитаем новые статистики"
      ]
    },
    {
      "cell_type": "code",
      "metadata": {
        "id": "fCuzCCW4Gam1",
        "colab_type": "code",
        "colab": {
          "base_uri": "https://localhost:8080/",
          "height": 34
        },
        "outputId": "06caa569-96f9-4cfb-c200-ab57281e9157"
      },
      "source": [
        "train_data_norm.data.mean().item()"
      ],
      "execution_count": 99,
      "outputs": [
        {
          "output_type": "execute_result",
          "data": {
            "text/plain": [
              "-3.24237989843823e-05"
            ]
          },
          "metadata": {
            "tags": []
          },
          "execution_count": 99
        }
      ]
    },
    {
      "cell_type": "code",
      "metadata": {
        "id": "WU8iIw5HGapa",
        "colab_type": "code",
        "colab": {
          "base_uri": "https://localhost:8080/",
          "height": 34
        },
        "outputId": "2721f3b0-2295-42be-f623-878741281798"
      },
      "source": [
        "train_data_norm.data.std().item()"
      ],
      "execution_count": 100,
      "outputs": [
        {
          "output_type": "execute_result",
          "data": {
            "text/plain": [
              "1.0"
            ]
          },
          "metadata": {
            "tags": []
          },
          "execution_count": 100
        }
      ]
    },
    {
      "cell_type": "markdown",
      "metadata": {
        "id": "SFg-LlWKh2MP",
        "colab_type": "text"
      },
      "source": [
        "Получили необходимый результат"
      ]
    },
    {
      "cell_type": "code",
      "metadata": {
        "id": "X-z6cy-wO0l2",
        "colab_type": "code",
        "colab": {}
      },
      "source": [
        ""
      ],
      "execution_count": 0,
      "outputs": []
    }
  ]
}
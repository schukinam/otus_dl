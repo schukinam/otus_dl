{
  "nbformat": 4,
  "nbformat_minor": 0,
  "metadata": {
    "kernelspec": {
      "display_name": "Python 3",
      "language": "python",
      "name": "python3"
    },
    "language_info": {
      "codemirror_mode": {
        "name": "ipython",
        "version": 3
      },
      "file_extension": ".py",
      "mimetype": "text/x-python",
      "name": "python",
      "nbconvert_exporter": "python",
      "pygments_lexer": "ipython3",
      "version": "3.6.7"
    },
    "colab": {
      "name": "lesson2_pytorch_log_reg.ipynb",
      "provenance": [],
      "collapsed_sections": [],
      "include_colab_link": true
    }
  },
  "cells": [
    {
      "cell_type": "markdown",
      "metadata": {
        "id": "view-in-github",
        "colab_type": "text"
      },
      "source": [
        "<a href=\"https://colab.research.google.com/github/schukinam/otus_dl/blob/master/lesson2_pytorch_log_reg.ipynb\" target=\"_parent\"><img src=\"https://colab.research.google.com/assets/colab-badge.svg\" alt=\"Open In Colab\"/></a>"
      ]
    },
    {
      "cell_type": "code",
      "metadata": {
        "id": "NINtKl6MlQg6",
        "colab_type": "code",
        "colab": {}
      },
      "source": [
        "import torch\n",
        "import torch.nn as nn\n",
        "import torch.nn.functional as F\n",
        "import torch.optim as optim\n",
        "\n",
        "import numpy as np\n",
        "import matplotlib.pyplot as plt\n",
        "\n",
        "%matplotlib inline"
      ],
      "execution_count": 0,
      "outputs": []
    },
    {
      "cell_type": "code",
      "metadata": {
        "id": "WcWX_R7qlQg_",
        "colab_type": "code",
        "colab": {}
      },
      "source": [
        "# параметры распределений\n",
        "d0_mu0, d0_mu1, d0_sigma0, d0_sigma1, d0_sigma01 = -2., -3., 2., 3., 1.\n",
        "d1_mu0, d1_mu1, d1_sigma0, d1_sigma1, d1_sigma01 = 3., 2., 2., 1., 1."
      ],
      "execution_count": 0,
      "outputs": []
    },
    {
      "cell_type": "code",
      "metadata": {
        "id": "AIN8ynyJlQhC",
        "colab_type": "code",
        "colab": {}
      },
      "source": [
        "def cov_matrix(sigma0, sigma1, sigma01):\n",
        "    return torch.tensor([[sigma0*sigma0, sigma01], [sigma01, sigma1*sigma1]])"
      ],
      "execution_count": 0,
      "outputs": []
    },
    {
      "cell_type": "code",
      "metadata": {
        "id": "_Yp80iCLlQhF",
        "colab_type": "code",
        "colab": {}
      },
      "source": [
        "d0 = torch.distributions.MultivariateNormal(torch.tensor([d0_mu0, d0_mu1]), \n",
        "                                            cov_matrix(d0_sigma0, d0_sigma1, d0_sigma01))\n",
        "d1 = torch.distributions.MultivariateNormal(torch.tensor([d1_mu0, d1_mu1]), \n",
        "                                            cov_matrix(d1_sigma0, d1_sigma1, d1_sigma01))"
      ],
      "execution_count": 0,
      "outputs": []
    },
    {
      "cell_type": "code",
      "metadata": {
        "id": "ytjsOKG3lQhJ",
        "colab_type": "code",
        "colab": {}
      },
      "source": [
        "def sample(d0, d1, n=32):\n",
        "    x0 = d0.sample((n,))\n",
        "    x1 = d1.sample((n,))\n",
        "    y0 = torch.zeros((n, 1))\n",
        "    y1 = torch.ones((n, 1))\n",
        "    return torch.cat([x0, x1], 0), torch.cat([y0, y1], 0)"
      ],
      "execution_count": 0,
      "outputs": []
    },
    {
      "cell_type": "code",
      "metadata": {
        "id": "WqMQjt87lQhN",
        "colab_type": "code",
        "colab": {
          "base_uri": "https://localhost:8080/",
          "height": 34
        },
        "outputId": "c40a9122-b3fb-4b29-d3fe-8f44aae31490"
      },
      "source": [
        "layer = nn.Linear(2, 1)\n",
        "print([p.data[0] for p in layer.parameters()])\n",
        "layer_opt = optim.SGD(lr=1e-3, params=list(layer.parameters()))"
      ],
      "execution_count": 6,
      "outputs": [
        {
          "output_type": "stream",
          "text": [
            "[tensor([ 0.6612, -0.6893]), tensor(0.3573)]\n"
          ],
          "name": "stdout"
        }
      ]
    },
    {
      "cell_type": "code",
      "metadata": {
        "id": "JaBbjOQclQhT",
        "colab_type": "code",
        "colab": {
          "base_uri": "https://localhost:8080/",
          "height": 357
        },
        "outputId": "6c63d05a-594f-4fdb-ee76-be5e2b13a3e0"
      },
      "source": [
        "log_freq = 500\n",
        "for i in range(10000):\n",
        "    if i%log_freq == 0:\n",
        "        with torch.no_grad():\n",
        "            x, y = sample(d0, d1, 100000)\n",
        "            out = torch.sigmoid(layer(x))\n",
        "            loss = F.binary_cross_entropy(out, y)\n",
        "        print('Ошибка после %d итераций: %f' %(i/log_freq, loss))\n",
        "    layer_opt.zero_grad()\n",
        "    x, y = sample(d0, d1, 1024)\n",
        "    out = torch.sigmoid(layer(x))\n",
        "    loss = F.binary_cross_entropy(out, y)\n",
        "    loss.backward()\n",
        "    layer_opt.step()"
      ],
      "execution_count": 7,
      "outputs": [
        {
          "output_type": "stream",
          "text": [
            "Ошибка после 0 итераций: 1.117555\n",
            "Ошибка после 1 итераций: 0.376375\n",
            "Ошибка после 2 итераций: 0.256891\n",
            "Ошибка после 3 итераций: 0.221147\n",
            "Ошибка после 4 итераций: 0.201873\n",
            "Ошибка после 5 итераций: 0.191923\n",
            "Ошибка после 6 итераций: 0.184284\n",
            "Ошибка после 7 итераций: 0.181951\n",
            "Ошибка после 8 итераций: 0.179576\n",
            "Ошибка после 9 итераций: 0.172955\n",
            "Ошибка после 10 итераций: 0.174424\n",
            "Ошибка после 11 итераций: 0.172346\n",
            "Ошибка после 12 итераций: 0.172547\n",
            "Ошибка после 13 итераций: 0.171570\n",
            "Ошибка после 14 итераций: 0.168591\n",
            "Ошибка после 15 итераций: 0.167391\n",
            "Ошибка после 16 итераций: 0.167640\n",
            "Ошибка после 17 итераций: 0.168132\n",
            "Ошибка после 18 итераций: 0.165707\n",
            "Ошибка после 19 итераций: 0.167429\n"
          ],
          "name": "stdout"
        }
      ]
    },
    {
      "cell_type": "markdown",
      "metadata": {
        "collapsed": true,
        "id": "pMb8nULFlQhX",
        "colab_type": "text"
      },
      "source": [
        "#### Визуализация"
      ]
    },
    {
      "cell_type": "code",
      "metadata": {
        "id": "mVPCx_EllQhY",
        "colab_type": "code",
        "colab": {}
      },
      "source": [
        "d0_sample = d0.sample((100,))\n",
        "d1_sample = d1.sample((100,))"
      ],
      "execution_count": 0,
      "outputs": []
    },
    {
      "cell_type": "code",
      "metadata": {
        "id": "arnatwmmlQhb",
        "colab_type": "code",
        "colab": {}
      },
      "source": [
        "d0_x0 = d0_sample.numpy()[:,0]\n",
        "d0_x1 = d0_sample.numpy()[:,1]\n",
        "d1_x0 = d1_sample.numpy()[:,0]\n",
        "d1_x1 = d1_sample.numpy()[:,1]"
      ],
      "execution_count": 0,
      "outputs": []
    },
    {
      "cell_type": "code",
      "metadata": {
        "id": "iXAAp6STlQhe",
        "colab_type": "code",
        "colab": {}
      },
      "source": [
        "# Достанем из слоя итоговые веса и сдвиг\n",
        "w0 = [p.data[0] for p in layer.parameters()][0].numpy()[0]\n",
        "w1 = [p.data[0] for p in layer.parameters()][0].numpy()[1]\n",
        "b = [p.data[0] for p in layer.parameters()][1].item()"
      ],
      "execution_count": 0,
      "outputs": []
    },
    {
      "cell_type": "code",
      "metadata": {
        "id": "0jaH3UFjlQhi",
        "colab_type": "code",
        "colab": {}
      },
      "source": [
        "# Из уравнения прямой w0*x0 + w1*x1 + b = 0 и максимальных значений сэмплов распределений получим \n",
        "# точки для построения разделяющей прямой\n",
        "\n",
        "d_x0_max = np.max(np.concatenate((d0_x0, d1_x0)))\n",
        "d_x1_max = np.max(np.concatenate((d0_x1, d1_x1)))\n",
        "\n",
        "l_x0 = (-b - w1 * d_x1_max) / w0\n",
        "l_x1 = (-b - w0 * d_x0_max) / w1"
      ],
      "execution_count": 0,
      "outputs": []
    },
    {
      "cell_type": "code",
      "metadata": {
        "id": "6P_fVX2llQhm",
        "colab_type": "code",
        "colab": {
          "base_uri": "https://localhost:8080/",
          "height": 513
        },
        "outputId": "d3d49d24-09aa-4927-82a6-62c4a9db62b6"
      },
      "source": [
        "plt.figure(figsize=(12,8))\n",
        "plt.scatter(d0_x0, d0_x1, c='red', label = 'd0')\n",
        "plt.scatter(d1_x0, d1_x1, c='green', label = 'd1')\n",
        "plt.plot([d_x0_max, l_x0], [l_x1, d_x1_max], c='blue', label='logreg')\n",
        "plt.xlabel('x0')\n",
        "plt.ylabel('x1')\n",
        "plt.title('2D-Normal distributions and Logistic regression dividing line')\n",
        "plt.legend()\n",
        "plt.show()"
      ],
      "execution_count": 12,
      "outputs": [
        {
          "output_type": "display_data",
          "data": {
            "image/png": "[encoded data removed]",
            "text/plain": [
              "<Figure size 864x576 with 1 Axes>"
            ]
          },
          "metadata": {
            "tags": []
          }
        }
      ]
    }
  ]
}
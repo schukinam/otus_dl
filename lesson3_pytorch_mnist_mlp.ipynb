{
  "nbformat": 4,
  "nbformat_minor": 0,
  "metadata": {
    "kernelspec": {
      "display_name": "Python 3",
      "language": "python",
      "name": "python3"
    },
    "language_info": {
      "codemirror_mode": {
        "name": "ipython",
        "version": 3
      },
      "file_extension": ".py",
      "mimetype": "text/x-python",
      "name": "python",
      "nbconvert_exporter": "python",
      "pygments_lexer": "ipython3",
      "version": "3.6.7"
    },
    "colab": {
      "name": "lesson3_pytorch_mnist_mlp.ipynb",
      "provenance": [],
      "collapsed_sections": [],
      "include_colab_link": true
    }
  },
  "cells": [
    {
      "cell_type": "markdown",
      "metadata": {
        "id": "view-in-github",
        "colab_type": "text"
      },
      "source": [
        "<a href=\"https://colab.research.google.com/github/schukinam/otus_dl/blob/master/lesson3_pytorch_mnist_mlp.ipynb\" target=\"_parent\"><img src=\"https://colab.research.google.com/assets/colab-badge.svg\" alt=\"Open In Colab\"/></a>"
      ]
    },
    {
      "cell_type": "code",
      "metadata": {
        "id": "0mkT9g_b7yiA",
        "colab_type": "code",
        "colab": {}
      },
      "source": [
        "import torch\n",
        "import torch.nn as nn\n",
        "import torch.nn.functional as F\n",
        "import torch.optim as optim\n",
        "from torch import utils\n",
        "from torchvision import datasets, transforms\n",
        "import matplotlib.pyplot as plt\n",
        "\n",
        "# from utils import mnist"
      ],
      "execution_count": 0,
      "outputs": []
    },
    {
      "cell_type": "code",
      "metadata": {
        "id": "u04rT4lc8CwA",
        "colab_type": "code",
        "colab": {}
      },
      "source": [
        "mnist_transform = transforms.Compose([\n",
        "                transforms.ToTensor(),\n",
        "                transforms.Normalize((0.1307,), (0.3081,)),\n",
        "           ])"
      ],
      "execution_count": 0,
      "outputs": []
    },
    {
      "cell_type": "code",
      "metadata": {
        "id": "n0DWxHuW8C3W",
        "colab_type": "code",
        "colab": {}
      },
      "source": [
        "def mnist(batch_size=50, shuffle=True, transform=mnist_transform, path='./MNIST_data'):\n",
        "    train_data = datasets.MNIST(path, train=True, download=True, transform=transform)\n",
        "    test_data = datasets.MNIST(path, train=False, download=True, transform=transform)\n",
        "    train_loader = utils.data.DataLoader(train_data, batch_size=batch_size, shuffle=shuffle)\n",
        "    test_loader = utils.data.DataLoader(test_data, batch_size=batch_size, shuffle=False)\n",
        "    return train_loader, test_loader"
      ],
      "execution_count": 0,
      "outputs": []
    },
    {
      "cell_type": "code",
      "metadata": {
        "id": "JuvkKkId7yiG",
        "colab_type": "code",
        "colab": {
          "base_uri": "https://localhost:8080/",
          "height": 255
        },
        "outputId": "23f87241-5445-401b-c28f-1c920b7ef422"
      },
      "source": [
        "train_loader, test_loader = mnist()"
      ],
      "execution_count": 5,
      "outputs": [
        {
          "output_type": "stream",
          "text": [
            "\r0it [00:00, ?it/s]"
          ],
          "name": "stderr"
        },
        {
          "output_type": "stream",
          "text": [
            "Downloading http://yann.lecun.com/exdb/mnist/train-images-idx3-ubyte.gz to ./MNIST_data/MNIST/raw/train-images-idx3-ubyte.gz\n"
          ],
          "name": "stdout"
        },
        {
          "output_type": "stream",
          "text": [
            "9920512it [00:02, 3713244.67it/s]                             \n"
          ],
          "name": "stderr"
        },
        {
          "output_type": "stream",
          "text": [
            "Extracting ./MNIST_data/MNIST/raw/train-images-idx3-ubyte.gz to ./MNIST_data/MNIST/raw\n"
          ],
          "name": "stdout"
        },
        {
          "output_type": "stream",
          "text": [
            "\r0it [00:00, ?it/s]"
          ],
          "name": "stderr"
        },
        {
          "output_type": "stream",
          "text": [
            "Downloading http://yann.lecun.com/exdb/mnist/train-labels-idx1-ubyte.gz to ./MNIST_data/MNIST/raw/train-labels-idx1-ubyte.gz\n"
          ],
          "name": "stdout"
        },
        {
          "output_type": "stream",
          "text": [
            "32768it [00:00, 57864.06it/s]                           \n",
            "0it [00:00, ?it/s]"
          ],
          "name": "stderr"
        },
        {
          "output_type": "stream",
          "text": [
            "Extracting ./MNIST_data/MNIST/raw/train-labels-idx1-ubyte.gz to ./MNIST_data/MNIST/raw\n",
            "Downloading http://yann.lecun.com/exdb/mnist/t10k-images-idx3-ubyte.gz to ./MNIST_data/MNIST/raw/t10k-images-idx3-ubyte.gz\n"
          ],
          "name": "stdout"
        },
        {
          "output_type": "stream",
          "text": [
            "1654784it [00:01, 977109.97it/s]                             \n",
            "0it [00:00, ?it/s]"
          ],
          "name": "stderr"
        },
        {
          "output_type": "stream",
          "text": [
            "Extracting ./MNIST_data/MNIST/raw/t10k-images-idx3-ubyte.gz to ./MNIST_data/MNIST/raw\n",
            "Downloading http://yann.lecun.com/exdb/mnist/t10k-labels-idx1-ubyte.gz to ./MNIST_data/MNIST/raw/t10k-labels-idx1-ubyte.gz\n"
          ],
          "name": "stdout"
        },
        {
          "output_type": "stream",
          "text": [
            "8192it [00:00, 21741.11it/s]            "
          ],
          "name": "stderr"
        },
        {
          "output_type": "stream",
          "text": [
            "Extracting ./MNIST_data/MNIST/raw/t10k-labels-idx1-ubyte.gz to ./MNIST_data/MNIST/raw\n",
            "Processing...\n",
            "Done!\n"
          ],
          "name": "stdout"
        },
        {
          "output_type": "stream",
          "text": [
            "\n"
          ],
          "name": "stderr"
        }
      ]
    },
    {
      "cell_type": "markdown",
      "metadata": {
        "id": "kFNtiLrs7yiJ",
        "colab_type": "text"
      },
      "source": [
        "#### Задание:\n",
        "#### 2. Добиться от классифкатора на minst переобучения за счет изменения архитектуры и гиперпараметров."
      ]
    },
    {
      "cell_type": "code",
      "metadata": {
        "id": "ZILZaDQx7yiK",
        "colab_type": "code",
        "colab": {}
      },
      "source": [
        "class Net(nn.Module):\n",
        "    def __init__(self, log_softmax=False):\n",
        "        super(Net, self).__init__()\n",
        "        # Будем добиваться переобучения с помощью слоя с очень большим количеством нейронов,\n",
        "        # веса которых смогут излишне подстроиться под обучающий датасет\n",
        "        self.fc1 = nn.Linear(28*28, 2048)\n",
        "        self.fc2 = nn.Linear(2048, 10)\n",
        "        self.log_softmax = log_softmax\n",
        "        self.optim = optim.SGD(self.parameters(), lr=1.0)\n",
        "        \n",
        "        self.train_losses_ = list()\n",
        "        self.test_losses_ = list()\n",
        "        self.train_accs_ = list()\n",
        "        self.test_accs_ = list()\n",
        "        \n",
        "    def forward(self, x):\n",
        "        x = x.view(-1, 28*28)\n",
        "        x = torch.relu(self.fc1(x))\n",
        "        x = self.fc2(x)\n",
        "        if self.log_softmax:\n",
        "            x = F.log_softmax(x, dim=1)\n",
        "        else:\n",
        "            x = torch.log(F.softmax(x, dim=1))\n",
        "        return x\n",
        "    \n",
        "    def loss(self, output, target, **kwargs):\n",
        "        self._loss = F.nll_loss(output, target, **kwargs)\n",
        "        return self._loss\n",
        "    \n",
        "    def _append_metric_value(self, metric, value):\n",
        "        if metric == 'train_loss':\n",
        "            self.train_losses_.append(value)\n",
        "        if metric == 'test_loss':\n",
        "            self.test_losses_.append(value)\n",
        "        if metric == 'train_acc':\n",
        "            self.train_accs_.append(value)\n",
        "        if metric == 'test_acc':\n",
        "            self.test_accs_.append(value)\n",
        "        return self"
      ],
      "execution_count": 0,
      "outputs": []
    },
    {
      "cell_type": "code",
      "metadata": {
        "id": "eR-RlxrI7yiN",
        "colab_type": "code",
        "colab": {}
      },
      "source": [
        "def fit(epoch, models):\n",
        "    for batch_idx, (data, target) in enumerate(train_loader):\n",
        "        for model in models:\n",
        "            model.optim.zero_grad()\n",
        "            output = model(data)\n",
        "            loss = model.loss(output, target)\n",
        "            loss.backward()\n",
        "            model.optim.step()\n",
        "            \n",
        "    else:\n",
        "        batch_idx += 1\n",
        "        for i, model in enumerate(models):\n",
        "            # рассчитываем loss и acc на целых датасетах train и test, а не на отдельном мини-батче\n",
        "            train_loss, train_acc = train_set_metrics(model)\n",
        "            test_loss, test_acc = test_set_metrics(model)\n",
        "            model._append_metric_value('train_loss', train_loss)\n",
        "            model._append_metric_value('train_acc', train_acc)\n",
        "            model._append_metric_value('test_loss', test_loss)\n",
        "            model._append_metric_value('test_acc', test_acc)\n",
        "            line = 'Model: {} | Train Epoch: {} | '.format(i, epoch) + \\\n",
        "                'Train Loss: {:.4f} | Test Loss: {:.4f} | Train Acc: {:.4f} | Test Acc: {:.4f}'.format(\n",
        "                train_loss, test_loss, train_acc, test_acc)\n",
        "            print(line)"
      ],
      "execution_count": 0,
      "outputs": []
    },
    {
      "cell_type": "code",
      "metadata": {
        "id": "pcDzt1Nm7yiP",
        "colab_type": "code",
        "colab": {}
      },
      "source": [
        "def train_set_metrics(model):\n",
        "    loss = 0.\n",
        "    acc = 0.\n",
        "    with torch.no_grad():\n",
        "        for data, target in train_loader:\n",
        "            output = model(data)\n",
        "            loss += model.loss(output, target, reduction='sum').item()\n",
        "            pred = output.data.max(1, keepdim=True)[1]\n",
        "            acc += pred.eq(target.data.view_as(pred)).cpu().sum().item()\n",
        "    loss /= len(train_loader.dataset)\n",
        "    acc /= len(train_loader.dataset)\n",
        "    return loss, acc"
      ],
      "execution_count": 0,
      "outputs": []
    },
    {
      "cell_type": "code",
      "metadata": {
        "id": "C3HPW2Yi7yiS",
        "colab_type": "code",
        "colab": {}
      },
      "source": [
        "def test_set_metrics(model):\n",
        "    loss = 0.\n",
        "    acc = 0.\n",
        "    with torch.no_grad():\n",
        "        for data, target in test_loader:\n",
        "            output = model(data)\n",
        "            loss += model.loss(output, target, reduction='sum').item()\n",
        "            pred = output.data.max(1, keepdim=True)[1]\n",
        "            acc += pred.eq(target.data.view_as(pred)).cpu().sum().item()\n",
        "    loss /= len(test_loader.dataset)\n",
        "    acc /= len(test_loader.dataset)\n",
        "    return loss, acc"
      ],
      "execution_count": 0,
      "outputs": []
    },
    {
      "cell_type": "code",
      "metadata": {
        "id": "Q88OBlah7yiU",
        "colab_type": "code",
        "colab": {}
      },
      "source": [
        "def plot_graph(model, metric, epochs):\n",
        "    plt.title('Model fit')\n",
        "    plt.xlabel('Epoch')\n",
        "    plt.ylabel(metric)\n",
        "    if metric == 'Loss':\n",
        "        plt.plot(model.train_losses_[:epochs], color='green', label='train')\n",
        "        plt.plot(model.test_losses_[:epochs], color='red', label='test')\n",
        "    if metric == 'Accuracy':        \n",
        "        plt.plot(model.train_accs_[:epochs], color='green', label='train')\n",
        "        plt.plot(model.test_accs_[:epochs], color='red', label='test')\n",
        "    plt.legend()\n",
        "    plt.show() "
      ],
      "execution_count": 0,
      "outputs": []
    },
    {
      "cell_type": "code",
      "metadata": {
        "id": "zS_ziBF-7yiY",
        "colab_type": "code",
        "colab": {}
      },
      "source": [
        "models = [Net(True)]"
      ],
      "execution_count": 0,
      "outputs": []
    },
    {
      "cell_type": "code",
      "metadata": {
        "scrolled": true,
        "id": "FGJW5a4U7yib",
        "colab_type": "code",
        "colab": {
          "base_uri": "https://localhost:8080/",
          "height": 1000
        },
        "outputId": "c156fde9-6c8a-4e4a-ebe2-ce33b835c2a7"
      },
      "source": [
        "for epoch in range(1, 101):\n",
        "    fit(epoch, models)"
      ],
      "execution_count": 12,
      "outputs": [
        {
          "output_type": "stream",
          "text": [
            "Model: 0 | Train Epoch: 1 | Train Loss: 0.6699 | Test Loss: 0.7222 | Train Acc: 0.8347 | Test Acc: 0.8317\n",
            "Model: 0 | Train Epoch: 2 | Train Loss: 0.5716 | Test Loss: 0.6352 | Train Acc: 0.8698 | Test Acc: 0.8632\n",
            "Model: 0 | Train Epoch: 3 | Train Loss: 0.5229 | Test Loss: 0.5883 | Train Acc: 0.8823 | Test Acc: 0.8782\n",
            "Model: 0 | Train Epoch: 4 | Train Loss: 0.3576 | Test Loss: 0.4431 | Train Acc: 0.9159 | Test Acc: 0.9091\n",
            "Model: 0 | Train Epoch: 5 | Train Loss: 0.3131 | Test Loss: 0.4054 | Train Acc: 0.9312 | Test Acc: 0.9215\n",
            "Model: 0 | Train Epoch: 6 | Train Loss: 0.3250 | Test Loss: 0.4396 | Train Acc: 0.9230 | Test Acc: 0.9092\n",
            "Model: 0 | Train Epoch: 7 | Train Loss: 0.2718 | Test Loss: 0.4093 | Train Acc: 0.9363 | Test Acc: 0.9302\n",
            "Model: 0 | Train Epoch: 8 | Train Loss: 0.2654 | Test Loss: 0.4255 | Train Acc: 0.9396 | Test Acc: 0.9276\n",
            "Model: 0 | Train Epoch: 9 | Train Loss: 0.2511 | Test Loss: 0.4147 | Train Acc: 0.9488 | Test Acc: 0.9331\n",
            "Model: 0 | Train Epoch: 10 | Train Loss: 0.1984 | Test Loss: 0.3773 | Train Acc: 0.9589 | Test Acc: 0.9412\n",
            "Model: 0 | Train Epoch: 11 | Train Loss: 0.1766 | Test Loss: 0.3390 | Train Acc: 0.9595 | Test Acc: 0.9462\n",
            "Model: 0 | Train Epoch: 12 | Train Loss: 0.2204 | Test Loss: 0.4000 | Train Acc: 0.9569 | Test Acc: 0.9441\n",
            "Model: 0 | Train Epoch: 13 | Train Loss: 0.1827 | Test Loss: 0.3292 | Train Acc: 0.9637 | Test Acc: 0.9538\n",
            "Model: 0 | Train Epoch: 14 | Train Loss: 0.1911 | Test Loss: 0.4163 | Train Acc: 0.9591 | Test Acc: 0.9414\n",
            "Model: 0 | Train Epoch: 15 | Train Loss: 0.1807 | Test Loss: 0.3996 | Train Acc: 0.9630 | Test Acc: 0.9459\n",
            "Model: 0 | Train Epoch: 16 | Train Loss: 0.2152 | Test Loss: 0.4072 | Train Acc: 0.9575 | Test Acc: 0.9452\n",
            "Model: 0 | Train Epoch: 17 | Train Loss: 0.1966 | Test Loss: 0.5081 | Train Acc: 0.9678 | Test Acc: 0.9509\n",
            "Model: 0 | Train Epoch: 18 | Train Loss: 0.1661 | Test Loss: 0.4535 | Train Acc: 0.9691 | Test Acc: 0.9509\n",
            "Model: 0 | Train Epoch: 19 | Train Loss: 0.2235 | Test Loss: 0.5149 | Train Acc: 0.9534 | Test Acc: 0.9368\n",
            "Model: 0 | Train Epoch: 20 | Train Loss: 0.1420 | Test Loss: 0.4335 | Train Acc: 0.9723 | Test Acc: 0.9527\n",
            "Model: 0 | Train Epoch: 21 | Train Loss: 0.1386 | Test Loss: 0.4460 | Train Acc: 0.9706 | Test Acc: 0.9524\n",
            "Model: 0 | Train Epoch: 22 | Train Loss: 0.1297 | Test Loss: 0.4605 | Train Acc: 0.9732 | Test Acc: 0.9522\n",
            "Model: 0 | Train Epoch: 23 | Train Loss: 0.1192 | Test Loss: 0.3821 | Train Acc: 0.9728 | Test Acc: 0.9552\n",
            "Model: 0 | Train Epoch: 24 | Train Loss: 0.1210 | Test Loss: 0.4789 | Train Acc: 0.9756 | Test Acc: 0.9558\n",
            "Model: 0 | Train Epoch: 25 | Train Loss: 0.1093 | Test Loss: 0.4625 | Train Acc: 0.9784 | Test Acc: 0.9576\n",
            "Model: 0 | Train Epoch: 26 | Train Loss: 0.1495 | Test Loss: 0.5156 | Train Acc: 0.9731 | Test Acc: 0.9535\n",
            "Model: 0 | Train Epoch: 27 | Train Loss: 0.1730 | Test Loss: 0.5982 | Train Acc: 0.9706 | Test Acc: 0.9474\n",
            "Model: 0 | Train Epoch: 28 | Train Loss: 0.0966 | Test Loss: 0.4948 | Train Acc: 0.9791 | Test Acc: 0.9581\n",
            "Model: 0 | Train Epoch: 29 | Train Loss: 0.1270 | Test Loss: 0.5486 | Train Acc: 0.9804 | Test Acc: 0.9599\n",
            "Model: 0 | Train Epoch: 30 | Train Loss: 0.2244 | Test Loss: 0.6364 | Train Acc: 0.9707 | Test Acc: 0.9534\n",
            "Model: 0 | Train Epoch: 31 | Train Loss: 0.1639 | Test Loss: 0.5738 | Train Acc: 0.9720 | Test Acc: 0.9503\n",
            "Model: 0 | Train Epoch: 32 | Train Loss: 0.1167 | Test Loss: 0.5034 | Train Acc: 0.9756 | Test Acc: 0.9568\n",
            "Model: 0 | Train Epoch: 33 | Train Loss: 0.1615 | Test Loss: 0.6192 | Train Acc: 0.9729 | Test Acc: 0.9503\n",
            "Model: 0 | Train Epoch: 34 | Train Loss: 0.0756 | Test Loss: 0.4910 | Train Acc: 0.9845 | Test Acc: 0.9615\n",
            "Model: 0 | Train Epoch: 35 | Train Loss: 0.1494 | Test Loss: 0.6276 | Train Acc: 0.9779 | Test Acc: 0.9565\n",
            "Model: 0 | Train Epoch: 36 | Train Loss: 0.1369 | Test Loss: 0.6728 | Train Acc: 0.9758 | Test Acc: 0.9514\n",
            "Model: 0 | Train Epoch: 37 | Train Loss: 0.0856 | Test Loss: 0.5836 | Train Acc: 0.9825 | Test Acc: 0.9566\n",
            "Model: 0 | Train Epoch: 38 | Train Loss: 0.1166 | Test Loss: 0.6051 | Train Acc: 0.9802 | Test Acc: 0.9574\n",
            "Model: 0 | Train Epoch: 39 | Train Loss: 0.1047 | Test Loss: 0.6270 | Train Acc: 0.9832 | Test Acc: 0.9577\n",
            "Model: 0 | Train Epoch: 40 | Train Loss: 0.1105 | Test Loss: 0.6369 | Train Acc: 0.9819 | Test Acc: 0.9595\n",
            "Model: 0 | Train Epoch: 41 | Train Loss: 0.0908 | Test Loss: 0.6195 | Train Acc: 0.9820 | Test Acc: 0.9604\n",
            "Model: 0 | Train Epoch: 42 | Train Loss: 0.0822 | Test Loss: 0.5561 | Train Acc: 0.9827 | Test Acc: 0.9616\n",
            "Model: 0 | Train Epoch: 43 | Train Loss: 0.1191 | Test Loss: 0.6683 | Train Acc: 0.9790 | Test Acc: 0.9557\n",
            "Model: 0 | Train Epoch: 44 | Train Loss: 0.0880 | Test Loss: 0.6019 | Train Acc: 0.9822 | Test Acc: 0.9583\n",
            "Model: 0 | Train Epoch: 45 | Train Loss: 0.0806 | Test Loss: 0.6085 | Train Acc: 0.9839 | Test Acc: 0.9618\n",
            "Model: 0 | Train Epoch: 46 | Train Loss: 0.1303 | Test Loss: 0.6703 | Train Acc: 0.9819 | Test Acc: 0.9592\n",
            "Model: 0 | Train Epoch: 47 | Train Loss: 0.1185 | Test Loss: 0.6618 | Train Acc: 0.9800 | Test Acc: 0.9562\n",
            "Model: 0 | Train Epoch: 48 | Train Loss: 0.0929 | Test Loss: 0.6894 | Train Acc: 0.9834 | Test Acc: 0.9598\n",
            "Model: 0 | Train Epoch: 49 | Train Loss: 0.0715 | Test Loss: 0.6843 | Train Acc: 0.9848 | Test Acc: 0.9605\n",
            "Model: 0 | Train Epoch: 50 | Train Loss: 0.0968 | Test Loss: 0.8464 | Train Acc: 0.9840 | Test Acc: 0.9622\n",
            "Model: 0 | Train Epoch: 51 | Train Loss: 0.1038 | Test Loss: 0.7435 | Train Acc: 0.9825 | Test Acc: 0.9616\n",
            "Model: 0 | Train Epoch: 52 | Train Loss: 0.1028 | Test Loss: 0.7413 | Train Acc: 0.9813 | Test Acc: 0.9583\n",
            "Model: 0 | Train Epoch: 53 | Train Loss: 0.1271 | Test Loss: 0.8764 | Train Acc: 0.9828 | Test Acc: 0.9609\n",
            "Model: 0 | Train Epoch: 54 | Train Loss: 0.0973 | Test Loss: 0.8509 | Train Acc: 0.9827 | Test Acc: 0.9568\n",
            "Model: 0 | Train Epoch: 55 | Train Loss: 0.0670 | Test Loss: 0.6810 | Train Acc: 0.9865 | Test Acc: 0.9606\n",
            "Model: 0 | Train Epoch: 56 | Train Loss: 0.1104 | Test Loss: 0.8113 | Train Acc: 0.9813 | Test Acc: 0.9587\n",
            "Model: 0 | Train Epoch: 57 | Train Loss: 0.0754 | Test Loss: 0.7892 | Train Acc: 0.9847 | Test Acc: 0.9586\n",
            "Model: 0 | Train Epoch: 58 | Train Loss: 0.0827 | Test Loss: 0.7878 | Train Acc: 0.9848 | Test Acc: 0.9621\n",
            "Model: 0 | Train Epoch: 59 | Train Loss: 0.0878 | Test Loss: 0.7965 | Train Acc: 0.9854 | Test Acc: 0.9610\n",
            "Model: 0 | Train Epoch: 60 | Train Loss: 0.0753 | Test Loss: 0.9747 | Train Acc: 0.9863 | Test Acc: 0.9611\n",
            "Model: 0 | Train Epoch: 61 | Train Loss: 0.0620 | Test Loss: 0.7858 | Train Acc: 0.9872 | Test Acc: 0.9632\n",
            "Model: 0 | Train Epoch: 62 | Train Loss: 0.0643 | Test Loss: 0.8828 | Train Acc: 0.9873 | Test Acc: 0.9644\n",
            "Model: 0 | Train Epoch: 63 | Train Loss: 0.0503 | Test Loss: 0.8337 | Train Acc: 0.9890 | Test Acc: 0.9637\n",
            "Model: 0 | Train Epoch: 64 | Train Loss: 0.0464 | Test Loss: 0.7705 | Train Acc: 0.9887 | Test Acc: 0.9630\n",
            "Model: 0 | Train Epoch: 65 | Train Loss: 0.0547 | Test Loss: 0.8672 | Train Acc: 0.9886 | Test Acc: 0.9639\n",
            "Model: 0 | Train Epoch: 66 | Train Loss: 0.0408 | Test Loss: 0.8083 | Train Acc: 0.9904 | Test Acc: 0.9655\n",
            "Model: 0 | Train Epoch: 67 | Train Loss: 0.0536 | Test Loss: 0.8389 | Train Acc: 0.9904 | Test Acc: 0.9669\n",
            "Model: 0 | Train Epoch: 68 | Train Loss: 0.0399 | Test Loss: 0.8092 | Train Acc: 0.9909 | Test Acc: 0.9654\n",
            "Model: 0 | Train Epoch: 69 | Train Loss: 0.0326 | Test Loss: 0.7564 | Train Acc: 0.9919 | Test Acc: 0.9633\n",
            "Model: 0 | Train Epoch: 70 | Train Loss: 0.0580 | Test Loss: 0.9241 | Train Acc: 0.9895 | Test Acc: 0.9633\n",
            "Model: 0 | Train Epoch: 71 | Train Loss: 0.0644 | Test Loss: 0.9125 | Train Acc: 0.9885 | Test Acc: 0.9652\n",
            "Model: 0 | Train Epoch: 72 | Train Loss: 0.0635 | Test Loss: 0.8936 | Train Acc: 0.9889 | Test Acc: 0.9633\n",
            "Model: 0 | Train Epoch: 73 | Train Loss: 0.0471 | Test Loss: 0.8753 | Train Acc: 0.9900 | Test Acc: 0.9645\n",
            "Model: 0 | Train Epoch: 74 | Train Loss: 0.0732 | Test Loss: 0.9346 | Train Acc: 0.9892 | Test Acc: 0.9642\n",
            "Model: 0 | Train Epoch: 75 | Train Loss: 0.0485 | Test Loss: 0.8778 | Train Acc: 0.9907 | Test Acc: 0.9655\n",
            "Model: 0 | Train Epoch: 76 | Train Loss: 0.0914 | Test Loss: 1.0823 | Train Acc: 0.9874 | Test Acc: 0.9599\n",
            "Model: 0 | Train Epoch: 77 | Train Loss: 0.0761 | Test Loss: 0.9784 | Train Acc: 0.9861 | Test Acc: 0.9594\n",
            "Model: 0 | Train Epoch: 78 | Train Loss: 0.0935 | Test Loss: 0.8559 | Train Acc: 0.9851 | Test Acc: 0.9602\n",
            "Model: 0 | Train Epoch: 79 | Train Loss: 0.0542 | Test Loss: 0.8621 | Train Acc: 0.9880 | Test Acc: 0.9602\n",
            "Model: 0 | Train Epoch: 80 | Train Loss: 0.0754 | Test Loss: 0.8647 | Train Acc: 0.9885 | Test Acc: 0.9622\n",
            "Model: 0 | Train Epoch: 81 | Train Loss: 0.0553 | Test Loss: 0.8561 | Train Acc: 0.9883 | Test Acc: 0.9645\n",
            "Model: 0 | Train Epoch: 82 | Train Loss: 0.0600 | Test Loss: 0.8621 | Train Acc: 0.9880 | Test Acc: 0.9641\n",
            "Model: 0 | Train Epoch: 83 | Train Loss: 0.0865 | Test Loss: 0.9958 | Train Acc: 0.9892 | Test Acc: 0.9641\n",
            "Model: 0 | Train Epoch: 84 | Train Loss: 0.1065 | Test Loss: 1.1171 | Train Acc: 0.9883 | Test Acc: 0.9629\n",
            "Model: 0 | Train Epoch: 85 | Train Loss: 0.0737 | Test Loss: 1.0149 | Train Acc: 0.9878 | Test Acc: 0.9626\n",
            "Model: 0 | Train Epoch: 86 | Train Loss: 0.0923 | Test Loss: 1.1354 | Train Acc: 0.9863 | Test Acc: 0.9585\n",
            "Model: 0 | Train Epoch: 87 | Train Loss: 0.0599 | Test Loss: 1.0708 | Train Acc: 0.9899 | Test Acc: 0.9648\n",
            "Model: 0 | Train Epoch: 88 | Train Loss: 0.0653 | Test Loss: 1.0766 | Train Acc: 0.9898 | Test Acc: 0.9645\n",
            "Model: 0 | Train Epoch: 89 | Train Loss: 0.1177 | Test Loss: 1.0299 | Train Acc: 0.9858 | Test Acc: 0.9613\n",
            "Model: 0 | Train Epoch: 90 | Train Loss: 0.0803 | Test Loss: 1.0049 | Train Acc: 0.9862 | Test Acc: 0.9612\n",
            "Model: 0 | Train Epoch: 91 | Train Loss: 0.0777 | Test Loss: 0.9520 | Train Acc: 0.9855 | Test Acc: 0.9604\n",
            "Model: 0 | Train Epoch: 92 | Train Loss: 0.1110 | Test Loss: 1.2536 | Train Acc: 0.9849 | Test Acc: 0.9583\n",
            "Model: 0 | Train Epoch: 93 | Train Loss: 0.1067 | Test Loss: 1.2854 | Train Acc: 0.9869 | Test Acc: 0.9608\n",
            "Model: 0 | Train Epoch: 94 | Train Loss: 0.0846 | Test Loss: 1.0600 | Train Acc: 0.9849 | Test Acc: 0.9598\n",
            "Model: 0 | Train Epoch: 95 | Train Loss: 0.0731 | Test Loss: 1.1354 | Train Acc: 0.9893 | Test Acc: 0.9635\n",
            "Model: 0 | Train Epoch: 96 | Train Loss: 0.0554 | Test Loss: 1.0009 | Train Acc: 0.9889 | Test Acc: 0.9615\n",
            "Model: 0 | Train Epoch: 97 | Train Loss: 0.0491 | Test Loss: 1.0247 | Train Acc: 0.9902 | Test Acc: 0.9626\n",
            "Model: 0 | Train Epoch: 98 | Train Loss: 0.0788 | Test Loss: 1.0210 | Train Acc: 0.9892 | Test Acc: 0.9626\n",
            "Model: 0 | Train Epoch: 99 | Train Loss: 0.0551 | Test Loss: 0.9661 | Train Acc: 0.9894 | Test Acc: 0.9646\n",
            "Model: 0 | Train Epoch: 100 | Train Loss: 0.0554 | Test Loss: 1.0435 | Train Acc: 0.9896 | Test Acc: 0.9654\n"
          ],
          "name": "stdout"
        }
      ]
    },
    {
      "cell_type": "code",
      "metadata": {
        "id": "UENJgnnU7yie",
        "colab_type": "code",
        "colab": {
          "base_uri": "https://localhost:8080/",
          "height": 295
        },
        "outputId": "67bc42d2-35c3-4abc-b3fd-faba1fd008c7"
      },
      "source": [
        "plot_graph(models[0], 'Loss', 100)"
      ],
      "execution_count": 13,
      "outputs": [
        {
          "output_type": "display_data",
          "data": {
            "image/png": "[encoded data removed]",
            "text/plain": [
              "<Figure size 432x288 with 1 Axes>"
            ]
          },
          "metadata": {
            "tags": []
          }
        }
      ]
    },
    {
      "cell_type": "code",
      "metadata": {
        "id": "WoXuM5M27yih",
        "colab_type": "code",
        "colab": {
          "base_uri": "https://localhost:8080/",
          "height": 295
        },
        "outputId": "29542fd0-eec9-4cee-f263-ffad126f8b3b"
      },
      "source": [
        "plot_graph(models[0], 'Accuracy', 100)"
      ],
      "execution_count": 14,
      "outputs": [
        {
          "output_type": "display_data",
          "data": {
            "image/png": "[encoded data removed]",
            "text/plain": [
              "<Figure size 432x288 with 1 Axes>"
            ]
          },
          "metadata": {
            "tags": []
          }
        }
      ]
    },
    {
      "cell_type": "markdown",
      "metadata": {
        "id": "mV9t_MhC7yik",
        "colab_type": "text"
      },
      "source": [
        "#### Вопрос из slack:"
      ]
    },
    {
      "cell_type": "markdown",
      "metadata": {
        "id": "Nv__-uNI7yil",
        "colab_type": "text"
      },
      "source": [
        "Artur Kadurin 3:16 PM\n",
        "\n",
        "я понял, что я внес некоторый рандом в дз про перееобучение. обычно, когда говорят про перееобучение подразумевают зазор между ошибкой на трейне и тесте, имея в виду что реальное качество модели перестало расти, а мы глядя только на трейн не можем этого понять и кажется что модель учится дальше.\n",
        "\n",
        "но в этом дз у многих вощникла ситуация, когда начиная с какого-то момента ошибка на тесте не просто перестает уменьшаться, а еще и начинает расти. в связи с этим я прошу всех заодно посмотреть и на график accuracy и сделать вывод о том, как так выходит, что лосс растет, а точность не падает."
      ]
    },
    {
      "cell_type": "markdown",
      "metadata": {
        "id": "mTX0DV8V7yim",
        "colab_type": "text"
      },
      "source": [
        "#### Предположительный вывод:"
      ]
    },
    {
      "cell_type": "markdown",
      "metadata": {
        "id": "ol_2Q-Uq7yim",
        "colab_type": "text"
      },
      "source": [
        "Рассмотрим пример из тестового множества, на котором модель ошибается. В процессе переобучения модель, подстраиваясь под обучающий датасет, может всё больше и больше ошибаться на данном примере, то есть уменьшать вероятность qi правильного ответа pi, из-за чего NLL будет расти, т.к. считается с помощью суммирования слагаемых -pi*log(qi). При этом Accuracy не меняется, т.к. на выходе модель продолжает возвращать одинаково неверный ответ.\n",
        "\n",
        "В то же время в некоторых случаях граничных классов возможен переход от неправильного ответа к правильному, то есть теоретически Accuracy может даже расти при растущем NLL. "
      ]
    },
    {
      "cell_type": "code",
      "metadata": {
        "id": "szPMCDKP7yin",
        "colab_type": "code",
        "colab": {}
      },
      "source": [
        ""
      ],
      "execution_count": 0,
      "outputs": []
    }
  ]
}